{
  "nbformat": 4,
  "nbformat_minor": 0,
  "metadata": {
    "colab": {
      "name": "l1.ipynb",
      "provenance": [],
      "include_colab_link": true
    },
    "kernelspec": {
      "name": "python3",
      "display_name": "Python 3"
    },
    "accelerator": "GPU"
  },
  "cells": [
    {
      "cell_type": "markdown",
      "metadata": {
        "id": "view-in-github",
        "colab_type": "text"
      },
      "source": [
        "<a href=\"https://colab.research.google.com/github/SaraBabakN/hello-world/blob/master/l1.ipynb\" target=\"_parent\"><img src=\"https://colab.research.google.com/assets/colab-badge.svg\" alt=\"Open In Colab\"/></a>"
      ]
    },
    {
      "cell_type": "code",
      "metadata": {
        "id": "8tZkNNNAR0OX",
        "colab_type": "code",
        "colab": {}
      },
      "source": [
        "from datetime import datetime\n",
        "import torch\n",
        "import torchvision\n",
        "import torch.nn as nn\n",
        "import torchvision.models as models\n",
        "import torch.optim as optim\n",
        "import torchvision.transforms as transforms\n",
        "import matplotlib.pyplot as plt\n",
        "\n",
        "train_set = torchvision.datasets.CIFAR10('./dataset', train=True, download=True,\n",
        "                                         transform=transforms.Compose([transforms.ToTensor()]))\n",
        "\n",
        "\n",
        "def get_num_correct(preds, labels):\n",
        "    return preds.argmax(dim=1).eq(labels).sum().item()"
      ],
      "execution_count": 0,
      "outputs": []
    },
    {
      "cell_type": "code",
      "metadata": {
        "id": "4OMEZCXCoDvy",
        "colab_type": "code",
        "colab": {}
      },
      "source": [
        "model = torch.load('/content/drive/My Drive/data1/model.pth')\n",
        "model.eval()"
      ],
      "execution_count": 0,
      "outputs": []
    },
    {
      "cell_type": "code",
      "metadata": {
        "id": "LnbzkY4OSERd",
        "colab_type": "code",
        "colab": {}
      },
      "source": [
        "lr = 0.01\n",
        "batch_size = 200\n",
        "dataset_size = 50000\n",
        "epoch_num = 50"
      ],
      "execution_count": 0,
      "outputs": []
    },
    {
      "cell_type": "code",
      "metadata": {
        "id": "5S6YeNIRxHWy",
        "colab_type": "code",
        "colab": {}
      },
      "source": [
        "data_loader = torch.utils.data.DataLoader(train_set, batch_size=batch_size)\n",
        "optimizer = optim.Adam(network.parameters(), lr=lr)"
      ],
      "execution_count": 0,
      "outputs": []
    },
    {
      "cell_type": "code",
      "metadata": {
        "id": "movDqyMAp46l",
        "colab_type": "code",
        "outputId": "3f250a36-a24b-4030-df03-ce0826cd3902",
        "colab": {
          "base_uri": "https://localhost:8080/",
          "height": 34
        }
      },
      "source": [
        "correct = 0 \n",
        "for batch in data_loader: \n",
        "  images , labels = batch \n",
        "  images = images.cuda() \n",
        "  labels = labels.cuda()\n",
        "  preds = network(images)\n",
        "  correct = correct + get_num_correct(preds, labels)\n",
        "\n",
        "print(correct/dataset_size )\n"
      ],
      "execution_count": 67,
      "outputs": [
        {
          "output_type": "stream",
          "text": [
            "0.98526\n"
          ],
          "name": "stdout"
        }
      ]
    },
    {
      "cell_type": "code",
      "metadata": {
        "id": "iEjdIFyIYBdD",
        "colab_type": "code",
        "colab": {
          "base_uri": "https://localhost:8080/",
          "height": 289
        },
        "outputId": "62015682-d2e8-405e-99d7-2799073458df"
      },
      "source": [
        "name_list = ['conv1.weight','layer1.0.conv1.weight','layer1.0.conv2.weight','layer1.1.conv1.weight','layer1.1.conv2.weight','layer2.0.conv1.weight','layer2.0.conv2.weight','layer2.1.conv1.weight',\n",
        "'layer2.1.conv2.weight','layer3.0.conv1.weight','layer3.0.conv2.weight','layer3.1.conv1.weight','layer3.1.conv2.weight','layer4.0.conv1.weight','layer4.0.conv2.weight','layer4.1.conv1.weight','layer4.1.conv2.weight']\n",
        "a = torch.zeros (17)\n",
        "counter = 0 \n",
        "for layer_name, parameter in network.named_parameters():\n",
        "  if (layer_name in name_list):\n",
        "    a[counter] = torch.sum(torch.abs(parameter.clone().detach().cpu()))/parameter.numel()\n",
        "    # print(layer_name , parameter.shape ,a[counter] ,'\\n')\n",
        "    plt.plot(counter, a[counter] , marker = 'o', label = layer_name)\n",
        "    plt.legend(loc='center left', bbox_to_anchor=(1, 0.5))\n",
        "    counter = counter + 1 \n",
        "   "
      ],
      "execution_count": 70,
      "outputs": [
        {
          "output_type": "display_data",
          "data": {
            "image/png": "[encoded data removed]",
            "text/plain": [
              "<Figure size 432x288 with 1 Axes>"
            ]
          },
          "metadata": {
            "tags": []
          }
        }
      ]
    },
    {
      "cell_type": "code",
      "metadata": {
        "id": "6Um7vZYC0T06",
        "colab_type": "code",
        "colab": {}
      },
      "source": [
        "new_net =  models.resnet18(num_classes=10).cuda()"
      ],
      "execution_count": 0,
      "outputs": []
    },
    {
      "cell_type": "code",
      "metadata": {
        "id": "BU7WV4ekI256",
        "colab_type": "code",
        "colab": {}
      },
      "source": [
        "optimizer = optim.Adam(myNet.parameters(), lr=lr)"
      ],
      "execution_count": 0,
      "outputs": []
    },
    {
      "cell_type": "code",
      "metadata": {
        "id": "T3yKE5UMSdH1",
        "colab_type": "code",
        "colab": {
          "base_uri": "https://localhost:8080/",
          "height": 897
        },
        "outputId": "969628df-4806-4e6b-e3fc-e8aca5cc0bee"
      },
      "source": [
        "for epoch in range(epoch_num):\n",
        "    correct = 0 \n",
        "    for batch in data_loader:\n",
        "        images, labels = batch\n",
        "        images = images.cuda() \n",
        "        labels = labels.cuda()\n",
        "        preds = myNet(images)\n",
        "          \n",
        "        loss = nn.functional.cross_entropy(preds, labels)\n",
        "        optimizer.zero_grad()\n",
        "        loss.backward()\n",
        "        optimizer.step()\n",
        "        correct = correct + get_num_correct(preds,labels)\n",
        "    print(\"epoch\", epoch, \"accuracy\" , correct)\n"
      ],
      "execution_count": 142,
      "outputs": [
        {
          "output_type": "stream",
          "text": [
            "epoch 0 accuracy 22489\n",
            "epoch 1 accuracy 31327\n",
            "epoch 2 accuracy 35214\n",
            "epoch 3 accuracy 37745\n",
            "epoch 4 accuracy 39704\n",
            "epoch 5 accuracy 41350\n",
            "epoch 6 accuracy 42877\n",
            "epoch 7 accuracy 44279\n",
            "epoch 8 accuracy 45176\n",
            "epoch 9 accuracy 46187\n",
            "epoch 10 accuracy 47046\n",
            "epoch 11 accuracy 47490\n",
            "epoch 12 accuracy 47906\n",
            "epoch 13 accuracy 48277\n",
            "epoch 14 accuracy 48610\n",
            "epoch 15 accuracy 48665\n",
            "epoch 16 accuracy 48730\n",
            "epoch 17 accuracy 48861\n",
            "epoch 18 accuracy 49039\n",
            "epoch 19 accuracy 49048\n",
            "epoch 20 accuracy 49170\n",
            "epoch 21 accuracy 49045\n",
            "epoch 22 accuracy 49137\n",
            "epoch 23 accuracy 49024\n",
            "epoch 24 accuracy 49332\n",
            "epoch 25 accuracy 49281\n",
            "epoch 26 accuracy 49248\n",
            "epoch 27 accuracy 49235\n",
            "epoch 28 accuracy 49406\n",
            "epoch 29 accuracy 49349\n",
            "epoch 30 accuracy 49207\n",
            "epoch 31 accuracy 49310\n",
            "epoch 32 accuracy 49349\n",
            "epoch 33 accuracy 49333\n",
            "epoch 34 accuracy 49348\n",
            "epoch 35 accuracy 49406\n",
            "epoch 36 accuracy 49482\n",
            "epoch 37 accuracy 49475\n",
            "epoch 38 accuracy 49439\n",
            "epoch 39 accuracy 49531\n",
            "epoch 40 accuracy 49512\n",
            "epoch 41 accuracy 49522\n",
            "epoch 42 accuracy 49426\n",
            "epoch 43 accuracy 49543\n",
            "epoch 44 accuracy 49596\n",
            "epoch 45 accuracy 49509\n",
            "epoch 46 accuracy 49497\n",
            "epoch 47 accuracy 49568\n",
            "epoch 48 accuracy 49535\n",
            "epoch 49 accuracy 49532\n"
          ],
          "name": "stdout"
        }
      ]
    },
    {
      "cell_type": "code",
      "metadata": {
        "id": "GdYeiYX3Ln_Y",
        "colab_type": "code",
        "colab": {
          "base_uri": "https://localhost:8080/",
          "height": 34
        },
        "outputId": "11e6ff7c-6cee-457a-a577-e072b63a6533"
      },
      "source": [
        "49532/50000"
      ],
      "execution_count": 143,
      "outputs": [
        {
          "output_type": "execute_result",
          "data": {
            "text/plain": [
              "0.99064"
            ]
          },
          "metadata": {
            "tags": []
          },
          "execution_count": 143
        }
      ]
    },
    {
      "cell_type": "code",
      "metadata": {
        "id": "1nnUhf78GXqz",
        "colab_type": "code",
        "colab": {}
      },
      "source": [
        "myNet = myResnet(num_classes=10).cuda()"
      ],
      "execution_count": 0,
      "outputs": []
    },
    {
      "cell_type": "code",
      "metadata": {
        "id": "aDQwMdB8FbGh",
        "colab_type": "code",
        "colab": {}
      },
      "source": [
        "class myModel(nn.Module):\n",
        "\n",
        "    def __init__(self, block, layers, num_classes=1000, zero_init_residual=False,\n",
        "                 groups=1, width_per_group=64, replace_stride_with_dilation=None,\n",
        "                 norm_layer=None):\n",
        "        super(myModel, self).__init__()\n",
        "        if norm_layer is None:\n",
        "            norm_layer = nn.BatchNorm2d\n",
        "        self._norm_layer = norm_layer\n",
        "\n",
        "        self.inplanes = 64\n",
        "        self.dilation = 1\n",
        "        if replace_stride_with_dilation is None:\n",
        "            # each element in the tuple indicates if we should replace\n",
        "            # the 2x2 stride with a dilated convolution instead\n",
        "            replace_stride_with_dilation = [False, False, False]\n",
        "        if len(replace_stride_with_dilation) != 3:\n",
        "            raise ValueError(\"replace_stride_with_dilation should be None \"\n",
        "                             \"or a 3-element tuple, got {}\".format(replace_stride_with_dilation))\n",
        "        self.groups = groups\n",
        "        self.base_width = width_per_group\n",
        "        self.conv1 = nn.Conv2d(3, self.inplanes, kernel_size=7, stride=2, padding=3,\n",
        "                               bias=False)\n",
        "        self.bn1 = norm_layer(self.inplanes)\n",
        "        self.relu = nn.ReLU(inplace=True)\n",
        "        self.maxpool = nn.MaxPool2d(kernel_size=3, stride=2, padding=1)\n",
        "        self.layer1 = self._make_layer(block, 64, layers[0])\n",
        "        self.layer2 = self._make_layer(block, 128, layers[1], stride=2,\n",
        "                                       dilate=replace_stride_with_dilation[0])\n",
        "        self.layer3 = self._make_layer(block, 256, layers[2], stride=2,\n",
        "                                       dilate=replace_stride_with_dilation[1])\n",
        "        self.avgpool = nn.AdaptiveAvgPool2d((1, 1))\n",
        "        self.fc = nn.Linear(256 * block.expansion, num_classes)\n",
        "\n",
        "        for m in self.modules():\n",
        "            if isinstance(m, nn.Conv2d):\n",
        "                nn.init.kaiming_normal_(m.weight, mode='fan_out', nonlinearity='relu')\n",
        "            elif isinstance(m, (nn.BatchNorm2d, nn.GroupNorm)):\n",
        "                nn.init.constant_(m.weight, 1)\n",
        "                nn.init.constant_(m.bias, 0)\n",
        "\n",
        "        # Zero-initialize the last BN in each residual branch,\n",
        "        # so that the residual branch starts with zeros, and each residual block behaves like an identity.\n",
        "        # This improves the model by 0.2~0.3% according to https://arxiv.org/abs/1706.02677\n",
        "        if zero_init_residual:\n",
        "            for m in self.modules():\n",
        "                if isinstance(m, Bottleneck):\n",
        "                    nn.init.constant_(m.bn3.weight, 0)\n",
        "                elif isinstance(m, BasicBlock):\n",
        "                    nn.init.constant_(m.bn2.weight, 0)\n",
        "\n",
        "    def _make_layer(self, block, planes, blocks, stride=1, dilate=False):\n",
        "        norm_layer = self._norm_layer\n",
        "        downsample = None\n",
        "        previous_dilation = self.dilation\n",
        "        if dilate:\n",
        "            self.dilation *= stride\n",
        "            stride = 1\n",
        "        if stride != 1 or self.inplanes != planes * block.expansion:\n",
        "            downsample = nn.Sequential(\n",
        "                conv1x1(self.inplanes, planes * block.expansion, stride),\n",
        "                norm_layer(planes * block.expansion),\n",
        "            )\n",
        "\n",
        "        layers = []\n",
        "        layers.append(block(self.inplanes, planes, stride, downsample, self.groups,\n",
        "                            self.base_width, previous_dilation, norm_layer))\n",
        "        self.inplanes = planes * block.expansion\n",
        "        for _ in range(1, blocks):\n",
        "            layers.append(block(self.inplanes, planes, groups=self.groups,\n",
        "                                base_width=self.base_width, dilation=self.dilation,\n",
        "                                norm_layer=norm_layer))\n",
        "\n",
        "        return nn.Sequential(*layers)\n",
        "\n",
        "    def _forward_impl(self, x):\n",
        "        # See note [TorchScript super()]\n",
        "        x = self.conv1(x)\n",
        "        x = self.bn1(x)\n",
        "        x = self.relu(x)\n",
        "        x = self.maxpool(x)\n",
        "\n",
        "        x = self.layer1(x)\n",
        "        x = self.layer2(x)\n",
        "        x = self.layer3(x)\n",
        "\n",
        "        x = self.avgpool(x)\n",
        "        x = torch.flatten(x, 1)\n",
        "        x = self.fc(x)\n",
        "\n",
        "        return x\n",
        "\n",
        "    def forward(self, x):\n",
        "        return self._forward_impl(x)"
      ],
      "execution_count": 0,
      "outputs": []
    },
    {
      "cell_type": "code",
      "metadata": {
        "id": "0uRu28VBGPAX",
        "colab_type": "code",
        "colab": {}
      },
      "source": [
        "def _resnet(arch, block, layers, pretrained, progress, **kwargs):\n",
        "    model = myModel(block, layers, **kwargs)\n",
        "    if pretrained:\n",
        "        state_dict = load_state_dict_from_url(model_urls[arch],\n",
        "                                              progress=progress)\n",
        "        model.load_state_dict(state_dict)\n",
        "    return model\n",
        "def myResnet(pretrained=False, progress=True, **kwargs):\n",
        "    r\"\"\"ResNet-18 model from\n",
        "    `\"Deep Residual Learning for Image Recognition\" <https://arxiv.org/pdf/1512.03385.pdf>`_\n",
        "    Args:\n",
        "        pretrained (bool): If True, returns a model pre-trained on ImageNet\n",
        "        progress (bool): If True, displays a progress bar of the download to stderr\n",
        "    \"\"\"\n",
        "    return _resnet('resnet18', BasicBlock, [2, 2, 2], pretrained, progress,\n",
        "                   **kwargs)"
      ],
      "execution_count": 0,
      "outputs": []
    },
    {
      "cell_type": "code",
      "metadata": {
        "id": "lpoMxEhPHN5A",
        "colab_type": "code",
        "colab": {}
      },
      "source": [
        "def conv1x1(in_planes, out_planes, stride=1):\n",
        "    \"\"\"1x1 convolution\"\"\"\n",
        "    return nn.Conv2d(in_planes, out_planes, kernel_size=1, stride=stride, bias=False)\n",
        "\n",
        "class BasicBlock(nn.Module):\n",
        "    expansion = 1\n",
        "    __constants__ = ['downsample']\n",
        "\n",
        "    def __init__(self, inplanes, planes, stride=1, downsample=None, groups=1,\n",
        "                 base_width=64, dilation=1, norm_layer=None):\n",
        "        super(BasicBlock, self).__init__()\n",
        "        if norm_layer is None:\n",
        "            norm_layer = nn.BatchNorm2d\n",
        "        if groups != 1 or base_width != 64:\n",
        "            raise ValueError('BasicBlock only supports groups=1 and base_width=64')\n",
        "        if dilation > 1:\n",
        "            raise NotImplementedError(\"Dilation > 1 not supported in BasicBlock\")\n",
        "        # Both self.conv1 and self.downsample layers downsample the input when stride != 1\n",
        "        self.conv1 = conv3x3(inplanes, planes, stride)\n",
        "        self.bn1 = norm_layer(planes)\n",
        "        self.relu = nn.ReLU(inplace=True)\n",
        "        self.conv2 = conv3x3(planes, planes)\n",
        "        self.bn2 = norm_layer(planes)\n",
        "        self.downsample = downsample\n",
        "        self.stride = stride\n",
        "\n",
        "    def forward(self, x):\n",
        "        identity = x\n",
        "\n",
        "        out = self.conv1(x)\n",
        "        out = self.bn1(out)\n",
        "        out = self.relu(out)\n",
        "\n",
        "        out = self.conv2(out)\n",
        "        out = self.bn2(out)\n",
        "\n",
        "        if self.downsample is not None:\n",
        "            identity = self.downsample(x)\n",
        "\n",
        "        out += identity\n",
        "        out = self.relu(out)\n",
        "\n",
        "        return out\n",
        "def conv3x3(in_planes, out_planes, stride=1, groups=1, dilation=1):\n",
        "    \"\"\"3x3 convolution with padding\"\"\"\n",
        "    return nn.Conv2d(in_planes, out_planes, kernel_size=3, stride=stride,\n",
        "                     padding=dilation, groups=groups, bias=False, dilation=dilation)"
      ],
      "execution_count": 0,
      "outputs": []
    }
  ]
}