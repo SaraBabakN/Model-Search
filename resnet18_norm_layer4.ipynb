{
  "nbformat": 4,
  "nbformat_minor": 0,
  "metadata": {
    "colab": {
      "name": "resnet18_norm_layer4.ipynb",
      "provenance": [],
      "include_colab_link": true
    },
    "kernelspec": {
      "name": "python3",
      "display_name": "Python 3"
    }
  },
  "cells": [
    {
      "cell_type": "markdown",
      "metadata": {
        "id": "view-in-github",
        "colab_type": "text"
      },
      "source": [
        "<a href=\"https://colab.research.google.com/github/SaraBabakN/hello-world/blob/master/resnet18_norm_layer4.ipynb\" target=\"_parent\"><img src=\"https://colab.research.google.com/assets/colab-badge.svg\" alt=\"Open In Colab\"/></a>"
      ]
    },
    {
      "cell_type": "code",
      "metadata": {
        "id": "D9JGSP1dxBCn",
        "colab_type": "code",
        "outputId": "3cbd17d9-00c2-4fab-8d6e-599fdceb5a27",
        "colab": {
          "base_uri": "https://localhost:8080/",
          "height": 70
        }
      },
      "source": [
        "from datetime import datetime\n",
        "import torch\n",
        "import torchvision\n",
        "import torch.nn as nn\n",
        "import torchvision.models as models\n",
        "import torch.optim as optim\n",
        "import torchvision.transforms as transforms\n",
        "from torch.utils.tensorboard import SummaryWriter\n",
        "import numpy as np\n",
        "import matplotlib.pyplot as plt\n",
        "\n",
        "train_set = torchvision.datasets.CIFAR10('./dataset', train=True, download=True,\n",
        "                                         transform=transforms.Compose([transforms.ToTensor()]))\n",
        "\n",
        "\n",
        "def get_num_correct(preds, labels):\n",
        "    return preds.argmax(dim=1).eq(labels).sum().item()"
      ],
      "execution_count": 1,
      "outputs": [
        {
          "output_type": "stream",
          "text": [
            "\r0it [00:00, ?it/s]"
          ],
          "name": "stderr"
        },
        {
          "output_type": "stream",
          "text": [
            "Downloading https://www.cs.toronto.edu/~kriz/cifar-10-python.tar.gz to ./dataset/cifar-10-python.tar.gz\n"
          ],
          "name": "stdout"
        },
        {
          "output_type": "stream",
          "text": [
            "170500096it [00:02, 70193806.36it/s]                               \n"
          ],
          "name": "stderr"
        },
        {
          "output_type": "stream",
          "text": [
            "Extracting ./dataset/cifar-10-python.tar.gz to ./dataset\n"
          ],
          "name": "stdout"
        }
      ]
    },
    {
      "cell_type": "code",
      "metadata": {
        "id": "4b8fCwMJbVXP",
        "colab_type": "code",
        "colab": {}
      },
      "source": [
        "network = models.resnet18(num_classes=10)"
      ],
      "execution_count": 0,
      "outputs": []
    },
    {
      "cell_type": "code",
      "metadata": {
        "id": "RGxaCOXqbYOD",
        "colab_type": "code",
        "colab": {
          "base_uri": "https://localhost:8080/",
          "height": 1000
        },
        "outputId": "b3286246-1ed7-48aa-8252-6d6ffc09e29b"
      },
      "source": [
        "print (network)"
      ],
      "execution_count": 3,
      "outputs": [
        {
          "output_type": "stream",
          "text": [
            "ResNet(\n",
            "  (conv1): Conv2d(3, 64, kernel_size=(7, 7), stride=(2, 2), padding=(3, 3), bias=False)\n",
            "  (bn1): BatchNorm2d(64, eps=1e-05, momentum=0.1, affine=True, track_running_stats=True)\n",
            "  (relu): ReLU(inplace=True)\n",
            "  (maxpool): MaxPool2d(kernel_size=3, stride=2, padding=1, dilation=1, ceil_mode=False)\n",
            "  (layer1): Sequential(\n",
            "    (0): BasicBlock(\n",
            "      (conv1): Conv2d(64, 64, kernel_size=(3, 3), stride=(1, 1), padding=(1, 1), bias=False)\n",
            "      (bn1): BatchNorm2d(64, eps=1e-05, momentum=0.1, affine=True, track_running_stats=True)\n",
            "      (relu): ReLU(inplace=True)\n",
            "      (conv2): Conv2d(64, 64, kernel_size=(3, 3), stride=(1, 1), padding=(1, 1), bias=False)\n",
            "      (bn2): BatchNorm2d(64, eps=1e-05, momentum=0.1, affine=True, track_running_stats=True)\n",
            "    )\n",
            "    (1): BasicBlock(\n",
            "      (conv1): Conv2d(64, 64, kernel_size=(3, 3), stride=(1, 1), padding=(1, 1), bias=False)\n",
            "      (bn1): BatchNorm2d(64, eps=1e-05, momentum=0.1, affine=True, track_running_stats=True)\n",
            "      (relu): ReLU(inplace=True)\n",
            "      (conv2): Conv2d(64, 64, kernel_size=(3, 3), stride=(1, 1), padding=(1, 1), bias=False)\n",
            "      (bn2): BatchNorm2d(64, eps=1e-05, momentum=0.1, affine=True, track_running_stats=True)\n",
            "    )\n",
            "  )\n",
            "  (layer2): Sequential(\n",
            "    (0): BasicBlock(\n",
            "      (conv1): Conv2d(64, 128, kernel_size=(3, 3), stride=(2, 2), padding=(1, 1), bias=False)\n",
            "      (bn1): BatchNorm2d(128, eps=1e-05, momentum=0.1, affine=True, track_running_stats=True)\n",
            "      (relu): ReLU(inplace=True)\n",
            "      (conv2): Conv2d(128, 128, kernel_size=(3, 3), stride=(1, 1), padding=(1, 1), bias=False)\n",
            "      (bn2): BatchNorm2d(128, eps=1e-05, momentum=0.1, affine=True, track_running_stats=True)\n",
            "      (downsample): Sequential(\n",
            "        (0): Conv2d(64, 128, kernel_size=(1, 1), stride=(2, 2), bias=False)\n",
            "        (1): BatchNorm2d(128, eps=1e-05, momentum=0.1, affine=True, track_running_stats=True)\n",
            "      )\n",
            "    )\n",
            "    (1): BasicBlock(\n",
            "      (conv1): Conv2d(128, 128, kernel_size=(3, 3), stride=(1, 1), padding=(1, 1), bias=False)\n",
            "      (bn1): BatchNorm2d(128, eps=1e-05, momentum=0.1, affine=True, track_running_stats=True)\n",
            "      (relu): ReLU(inplace=True)\n",
            "      (conv2): Conv2d(128, 128, kernel_size=(3, 3), stride=(1, 1), padding=(1, 1), bias=False)\n",
            "      (bn2): BatchNorm2d(128, eps=1e-05, momentum=0.1, affine=True, track_running_stats=True)\n",
            "    )\n",
            "  )\n",
            "  (layer3): Sequential(\n",
            "    (0): BasicBlock(\n",
            "      (conv1): Conv2d(128, 256, kernel_size=(3, 3), stride=(2, 2), padding=(1, 1), bias=False)\n",
            "      (bn1): BatchNorm2d(256, eps=1e-05, momentum=0.1, affine=True, track_running_stats=True)\n",
            "      (relu): ReLU(inplace=True)\n",
            "      (conv2): Conv2d(256, 256, kernel_size=(3, 3), stride=(1, 1), padding=(1, 1), bias=False)\n",
            "      (bn2): BatchNorm2d(256, eps=1e-05, momentum=0.1, affine=True, track_running_stats=True)\n",
            "      (downsample): Sequential(\n",
            "        (0): Conv2d(128, 256, kernel_size=(1, 1), stride=(2, 2), bias=False)\n",
            "        (1): BatchNorm2d(256, eps=1e-05, momentum=0.1, affine=True, track_running_stats=True)\n",
            "      )\n",
            "    )\n",
            "    (1): BasicBlock(\n",
            "      (conv1): Conv2d(256, 256, kernel_size=(3, 3), stride=(1, 1), padding=(1, 1), bias=False)\n",
            "      (bn1): BatchNorm2d(256, eps=1e-05, momentum=0.1, affine=True, track_running_stats=True)\n",
            "      (relu): ReLU(inplace=True)\n",
            "      (conv2): Conv2d(256, 256, kernel_size=(3, 3), stride=(1, 1), padding=(1, 1), bias=False)\n",
            "      (bn2): BatchNorm2d(256, eps=1e-05, momentum=0.1, affine=True, track_running_stats=True)\n",
            "    )\n",
            "  )\n",
            "  (layer4): Sequential(\n",
            "    (0): BasicBlock(\n",
            "      (conv1): Conv2d(256, 512, kernel_size=(3, 3), stride=(2, 2), padding=(1, 1), bias=False)\n",
            "      (bn1): BatchNorm2d(512, eps=1e-05, momentum=0.1, affine=True, track_running_stats=True)\n",
            "      (relu): ReLU(inplace=True)\n",
            "      (conv2): Conv2d(512, 512, kernel_size=(3, 3), stride=(1, 1), padding=(1, 1), bias=False)\n",
            "      (bn2): BatchNorm2d(512, eps=1e-05, momentum=0.1, affine=True, track_running_stats=True)\n",
            "      (downsample): Sequential(\n",
            "        (0): Conv2d(256, 512, kernel_size=(1, 1), stride=(2, 2), bias=False)\n",
            "        (1): BatchNorm2d(512, eps=1e-05, momentum=0.1, affine=True, track_running_stats=True)\n",
            "      )\n",
            "    )\n",
            "    (1): BasicBlock(\n",
            "      (conv1): Conv2d(512, 512, kernel_size=(3, 3), stride=(1, 1), padding=(1, 1), bias=False)\n",
            "      (bn1): BatchNorm2d(512, eps=1e-05, momentum=0.1, affine=True, track_running_stats=True)\n",
            "      (relu): ReLU(inplace=True)\n",
            "      (conv2): Conv2d(512, 512, kernel_size=(3, 3), stride=(1, 1), padding=(1, 1), bias=False)\n",
            "      (bn2): BatchNorm2d(512, eps=1e-05, momentum=0.1, affine=True, track_running_stats=True)\n",
            "    )\n",
            "  )\n",
            "  (avgpool): AdaptiveAvgPool2d(output_size=(1, 1))\n",
            "  (fc): Linear(in_features=512, out_features=10, bias=True)\n",
            ")\n"
          ],
          "name": "stdout"
        }
      ]
    },
    {
      "cell_type": "code",
      "metadata": {
        "id": "Gi7-qeGFyHAL",
        "colab_type": "code",
        "colab": {}
      },
      "source": [
        "lr = 0.02\n",
        "batch_size = 500\n",
        "dataset_size = 50000\n",
        "total_size = dataset_size // batch_size\n",
        "epoch_num = 2\n",
        "interval =20\n",
        "input_array = 512"
      ],
      "execution_count": 0,
      "outputs": []
    },
    {
      "cell_type": "code",
      "metadata": {
        "id": "BIrzzFuJyWZS",
        "colab_type": "code",
        "colab": {}
      },
      "source": [
        "network = models.resnet18(num_classes=10)\n",
        "data_loader = torch.utils.data.DataLoader(train_set, batch_size=batch_size)\n",
        "optimizer = optim.Adam(network.parameters(), lr=lr)"
      ],
      "execution_count": 0,
      "outputs": []
    },
    {
      "cell_type": "code",
      "metadata": {
        "id": "YR__WJITyn08",
        "colab_type": "code",
        "colab": {}
      },
      "source": [
        "data_norm = np.zeros((total_size * epoch_num // interval + 1, input_array))\n",
        "counter = 0\n",
        "epsilon = 10e-7\n",
        "x = 0"
      ],
      "execution_count": 0,
      "outputs": []
    },
    {
      "cell_type": "code",
      "metadata": {
        "id": "u4IMem17y2AC",
        "colab_type": "code",
        "outputId": "4918a107-a3e5-4354-eea1-886568d5012b",
        "colab": {
          "base_uri": "https://localhost:8080/",
          "height": 1000
        }
      },
      "source": [
        "pre_net = torch.zeros((input_array, input_array*3*3))\n",
        "param = torch.zeros((input_array, input_array*3*3))\n",
        "lName =\"layer4.0.conv1.weight\"\n",
        "for epoch in range(epoch_num):\n",
        "    total_loss = 0\n",
        "    total_correct = 0\n",
        "    for batch in data_loader:\n",
        "        images, labels = batch\n",
        "        preds = network(images)\n",
        "        loss = nn.functional.cross_entropy(preds, labels)\n",
        "        optimizer.zero_grad()\n",
        "        loss.backward()\n",
        "        if np.mod(counter, interval) == 0: \n",
        "            for layer_name, parameter in network.named_parameters():\n",
        "                if layer_name== lName:\n",
        "                    if x == 0:\n",
        "                        pre_net = parameter.clone().detach().reshape(input_array,-1)\n",
        "                    else :\n",
        "                        param = parameter.reshape(input_array,-1)\n",
        "                        data_norm[x] = np.divide(\n",
        "                        np.linalg.norm((param - pre_net).clone().detach().numpy(), axis=1),\n",
        "                        np.linalg.norm(pre_net.clone().detach().numpy(), axis=1) + epsilon)\n",
        "                        pre_net = param.clone().detach()\n",
        "                    break\n",
        "            x = x + 1\n",
        "        optimizer.step()\n",
        "        total_loss += loss.item() * batch_size\n",
        "        total_correct += get_num_correct(preds, labels)\n",
        "        print(\n",
        "            \"epoch\", epoch\n",
        "            , \"total_correct:\", total_correct\n",
        "            , \"loss:\", total_loss\n",
        "        )\n",
        "        counter += 1\n",
        "times = range(x)\n",
        "plt.plot(times, data_norm[times, 0], 'r')\n",
        "fig_name = lName+'.png'\n",
        "plt.savefig(fig_name)\n"
      ],
      "execution_count": 8,
      "outputs": [
        {
          "output_type": "stream",
          "text": [
            "epoch 0 total_correct: 52 loss: 1249.9752044677734\n",
            "epoch 0 total_correct: 105 loss: 5909.16633605957\n",
            "epoch 0 total_correct: 151 loss: 8482.030153274536\n",
            "epoch 0 total_correct: 216 loss: 10050.41790008545\n",
            "epoch 0 total_correct: 275 loss: 11606.340646743774\n",
            "epoch 0 total_correct: 339 loss: 13061.385989189148\n",
            "epoch 0 total_correct: 406 loss: 15078.70638370514\n",
            "epoch 0 total_correct: 483 loss: 16765.90597629547\n",
            "epoch 0 total_correct: 563 loss: 18184.502243995667\n",
            "epoch 0 total_correct: 627 loss: 19447.057843208313\n",
            "epoch 0 total_correct: 697 loss: 20647.140979766846\n",
            "epoch 0 total_correct: 779 loss: 21797.150135040283\n",
            "epoch 0 total_correct: 868 loss: 22921.714544296265\n",
            "epoch 0 total_correct: 951 loss: 24236.647963523865\n",
            "epoch 0 total_correct: 1026 loss: 25425.84526538849\n",
            "epoch 0 total_correct: 1096 loss: 26567.811846733093\n",
            "epoch 0 total_correct: 1180 loss: 28056.209683418274\n",
            "epoch 0 total_correct: 1258 loss: 29368.64984035492\n",
            "epoch 0 total_correct: 1316 loss: 30520.466566085815\n",
            "epoch 0 total_correct: 1378 loss: 31737.2407913208\n",
            "epoch 0 total_correct: 1454 loss: 32969.85375881195\n",
            "epoch 0 total_correct: 1527 loss: 34238.65354061127\n",
            "epoch 0 total_correct: 1585 loss: 35588.11700344086\n",
            "epoch 0 total_correct: 1667 loss: 36798.991560935974\n",
            "epoch 0 total_correct: 1763 loss: 37896.453976631165\n",
            "epoch 0 total_correct: 1843 loss: 39185.946464538574\n",
            "epoch 0 total_correct: 1929 loss: 40344.687938690186\n",
            "epoch 0 total_correct: 2022 loss: 41481.016516685486\n",
            "epoch 0 total_correct: 2089 loss: 42694.751024246216\n",
            "epoch 0 total_correct: 2170 loss: 43813.08317184448\n",
            "epoch 0 total_correct: 2256 loss: 44933.79509449005\n",
            "epoch 0 total_correct: 2339 loss: 46061.158418655396\n",
            "epoch 0 total_correct: 2416 loss: 47320.51658630371\n",
            "epoch 0 total_correct: 2500 loss: 48463.55617046356\n",
            "epoch 0 total_correct: 2587 loss: 49583.083629608154\n",
            "epoch 0 total_correct: 2655 loss: 50668.40410232544\n",
            "epoch 0 total_correct: 2739 loss: 51748.825430870056\n",
            "epoch 0 total_correct: 2808 loss: 52878.30865383148\n",
            "epoch 0 total_correct: 2878 loss: 53997.01511859894\n",
            "epoch 0 total_correct: 2974 loss: 55114.458203315735\n",
            "epoch 0 total_correct: 3061 loss: 56186.08808517456\n",
            "epoch 0 total_correct: 3136 loss: 57289.889335632324\n",
            "epoch 0 total_correct: 3240 loss: 58362.23649978638\n",
            "epoch 0 total_correct: 3338 loss: 59554.41868305206\n",
            "epoch 0 total_correct: 3440 loss: 60703.12678813934\n",
            "epoch 0 total_correct: 3524 loss: 61815.44864177704\n",
            "epoch 0 total_correct: 3621 loss: 62874.489307403564\n",
            "epoch 0 total_correct: 3727 loss: 63913.33997249603\n",
            "epoch 0 total_correct: 3831 loss: 64993.79599094391\n",
            "epoch 0 total_correct: 3927 loss: 66054.12542819977\n",
            "epoch 0 total_correct: 4023 loss: 67099.03275966644\n",
            "epoch 0 total_correct: 4122 loss: 68175.86588859558\n",
            "epoch 0 total_correct: 4234 loss: 69258.9441537857\n",
            "epoch 0 total_correct: 4323 loss: 70352.17881202698\n",
            "epoch 0 total_correct: 4415 loss: 71405.47513961792\n",
            "epoch 0 total_correct: 4524 loss: 72455.8494091034\n",
            "epoch 0 total_correct: 4625 loss: 73525.07281303406\n",
            "epoch 0 total_correct: 4737 loss: 74624.9487400055\n",
            "epoch 0 total_correct: 4836 loss: 75691.15447998047\n",
            "epoch 0 total_correct: 4935 loss: 76762.9154920578\n",
            "epoch 0 total_correct: 5030 loss: 77838.9642238617\n",
            "epoch 0 total_correct: 5126 loss: 78902.23586559296\n",
            "epoch 0 total_correct: 5218 loss: 80141.68965816498\n",
            "epoch 0 total_correct: 5332 loss: 81187.02590465546\n",
            "epoch 0 total_correct: 5431 loss: 82256.1571598053\n",
            "epoch 0 total_correct: 5550 loss: 83317.54219532013\n",
            "epoch 0 total_correct: 5651 loss: 84476.64904594421\n",
            "epoch 0 total_correct: 5757 loss: 85609.88879203796\n",
            "epoch 0 total_correct: 5858 loss: 86642.49205589294\n",
            "epoch 0 total_correct: 5958 loss: 87680.26471138\n",
            "epoch 0 total_correct: 6065 loss: 88695.06096839905\n",
            "epoch 0 total_correct: 6177 loss: 89717.78464317322\n",
            "epoch 0 total_correct: 6286 loss: 90778.98871898651\n",
            "epoch 0 total_correct: 6390 loss: 91803.49814891815\n",
            "epoch 0 total_correct: 6488 loss: 92835.85000038147\n",
            "epoch 0 total_correct: 6589 loss: 93879.47642803192\n",
            "epoch 0 total_correct: 6684 loss: 94909.88111495972\n",
            "epoch 0 total_correct: 6799 loss: 95922.04737663269\n",
            "epoch 0 total_correct: 6908 loss: 96938.23885917664\n",
            "epoch 0 total_correct: 7023 loss: 98012.46154308319\n",
            "epoch 0 total_correct: 7145 loss: 99031.52227401733\n",
            "epoch 0 total_correct: 7272 loss: 100054.70657348633\n",
            "epoch 0 total_correct: 7393 loss: 101080.9177160263\n",
            "epoch 0 total_correct: 7510 loss: 102081.45749568939\n",
            "epoch 0 total_correct: 7637 loss: 103062.72929906845\n",
            "epoch 0 total_correct: 7743 loss: 104110.06838083267\n",
            "epoch 0 total_correct: 7866 loss: 105105.05104064941\n",
            "epoch 0 total_correct: 8001 loss: 106063.94439935684\n",
            "epoch 0 total_correct: 8127 loss: 107127.33763456345\n",
            "epoch 0 total_correct: 8255 loss: 108108.88886451721\n",
            "epoch 0 total_correct: 8384 loss: 109075.24716854095\n",
            "epoch 0 total_correct: 8511 loss: 110030.62242269516\n",
            "epoch 0 total_correct: 8631 loss: 110966.78763628006\n",
            "epoch 0 total_correct: 8751 loss: 111919.06529664993\n",
            "epoch 0 total_correct: 8884 loss: 112847.63288497925\n",
            "epoch 0 total_correct: 9010 loss: 113778.56516838074\n",
            "epoch 0 total_correct: 9144 loss: 114700.23107528687\n",
            "epoch 0 total_correct: 9289 loss: 115642.18306541443\n",
            "epoch 0 total_correct: 9441 loss: 116569.21702623367\n",
            "epoch 0 total_correct: 9586 loss: 117490.20040035248\n",
            "epoch 1 total_correct: 161 loss: 900.1181721687317\n",
            "epoch 1 total_correct: 312 loss: 1819.585680961609\n",
            "epoch 1 total_correct: 464 loss: 2718.696355819702\n",
            "epoch 1 total_correct: 622 loss: 3642.135262489319\n",
            "epoch 1 total_correct: 777 loss: 4555.780112743378\n",
            "epoch 1 total_correct: 928 loss: 5449.0678906440735\n",
            "epoch 1 total_correct: 1078 loss: 6365.8342361450195\n",
            "epoch 1 total_correct: 1226 loss: 7257.6568722724915\n",
            "epoch 1 total_correct: 1393 loss: 8133.207082748413\n",
            "epoch 1 total_correct: 1562 loss: 9019.17588710785\n",
            "epoch 1 total_correct: 1723 loss: 9912.426054477692\n",
            "epoch 1 total_correct: 1892 loss: 10760.373950004578\n",
            "epoch 1 total_correct: 2058 loss: 11607.817769050598\n",
            "epoch 1 total_correct: 2221 loss: 12494.388818740845\n",
            "epoch 1 total_correct: 2384 loss: 13344.567894935608\n",
            "epoch 1 total_correct: 2543 loss: 14227.576076984406\n",
            "epoch 1 total_correct: 2712 loss: 15108.695983886719\n",
            "epoch 1 total_correct: 2871 loss: 15977.623403072357\n",
            "epoch 1 total_correct: 3040 loss: 16852.757811546326\n",
            "epoch 1 total_correct: 3215 loss: 17705.65915107727\n",
            "epoch 1 total_correct: 3388 loss: 18606.646716594696\n",
            "epoch 1 total_correct: 3569 loss: 19454.63538169861\n",
            "epoch 1 total_correct: 3722 loss: 20343.69045495987\n",
            "epoch 1 total_correct: 3903 loss: 21184.848487377167\n",
            "epoch 1 total_correct: 4102 loss: 22006.91246986389\n",
            "epoch 1 total_correct: 4274 loss: 22852.701127529144\n",
            "epoch 1 total_correct: 4449 loss: 23701.207876205444\n",
            "epoch 1 total_correct: 4622 loss: 24536.980390548706\n",
            "epoch 1 total_correct: 4790 loss: 25427.35642194748\n",
            "epoch 1 total_correct: 4957 loss: 26277.73219347\n",
            "epoch 1 total_correct: 5111 loss: 27162.744104862213\n",
            "epoch 1 total_correct: 5301 loss: 28005.10972738266\n",
            "epoch 1 total_correct: 5480 loss: 28874.94909763336\n",
            "epoch 1 total_correct: 5650 loss: 29744.437515735626\n",
            "epoch 1 total_correct: 5835 loss: 30594.18213367462\n",
            "epoch 1 total_correct: 6013 loss: 31462.870717048645\n",
            "epoch 1 total_correct: 6181 loss: 32322.181344032288\n",
            "epoch 1 total_correct: 6373 loss: 33173.29728603363\n",
            "epoch 1 total_correct: 6545 loss: 33996.041655540466\n",
            "epoch 1 total_correct: 6725 loss: 34840.00378847122\n",
            "epoch 1 total_correct: 6920 loss: 35666.23330116272\n",
            "epoch 1 total_correct: 7109 loss: 36497.36350774765\n",
            "epoch 1 total_correct: 7304 loss: 37295.25125026703\n",
            "epoch 1 total_correct: 7503 loss: 38090.43622016907\n",
            "epoch 1 total_correct: 7714 loss: 38872.1062541008\n",
            "epoch 1 total_correct: 7888 loss: 39700.516760349274\n",
            "epoch 1 total_correct: 8096 loss: 40467.55534410477\n",
            "epoch 1 total_correct: 8300 loss: 41257.066786289215\n",
            "epoch 1 total_correct: 8498 loss: 42045.24773359299\n",
            "epoch 1 total_correct: 8695 loss: 42851.3069152832\n",
            "epoch 1 total_correct: 8899 loss: 43651.630997657776\n",
            "epoch 1 total_correct: 9105 loss: 44434.63158607483\n",
            "epoch 1 total_correct: 9313 loss: 45212.016224861145\n",
            "epoch 1 total_correct: 9518 loss: 46022.09222316742\n",
            "epoch 1 total_correct: 9717 loss: 46819.00119781494\n",
            "epoch 1 total_correct: 9915 loss: 47614.30525779724\n",
            "epoch 1 total_correct: 10127 loss: 48384.4980597496\n",
            "epoch 1 total_correct: 10339 loss: 49161.82744503021\n",
            "epoch 1 total_correct: 10547 loss: 49948.81010055542\n",
            "epoch 1 total_correct: 10760 loss: 50721.71777486801\n",
            "epoch 1 total_correct: 10969 loss: 51489.435374736786\n",
            "epoch 1 total_correct: 11165 loss: 52289.245665073395\n",
            "epoch 1 total_correct: 11374 loss: 53059.52399969101\n",
            "epoch 1 total_correct: 11585 loss: 53868.70729923248\n",
            "epoch 1 total_correct: 11778 loss: 54695.35666704178\n",
            "epoch 1 total_correct: 11987 loss: 55518.88757944107\n",
            "epoch 1 total_correct: 12174 loss: 56327.64559984207\n",
            "epoch 1 total_correct: 12372 loss: 57157.59605169296\n",
            "epoch 1 total_correct: 12577 loss: 57936.774492263794\n",
            "epoch 1 total_correct: 12780 loss: 58758.71753692627\n",
            "epoch 1 total_correct: 12982 loss: 59557.33996629715\n",
            "epoch 1 total_correct: 13198 loss: 60349.29418563843\n",
            "epoch 1 total_correct: 13396 loss: 61160.296976566315\n",
            "epoch 1 total_correct: 13610 loss: 61943.80784034729\n",
            "epoch 1 total_correct: 13801 loss: 62741.67728424072\n",
            "epoch 1 total_correct: 14009 loss: 63528.957307338715\n",
            "epoch 1 total_correct: 14203 loss: 64338.36632966995\n",
            "epoch 1 total_correct: 14409 loss: 65102.78016328812\n",
            "epoch 1 total_correct: 14635 loss: 65847.73296117783\n",
            "epoch 1 total_correct: 14850 loss: 66639.00148868561\n",
            "epoch 1 total_correct: 15052 loss: 67412.84799575806\n",
            "epoch 1 total_correct: 15260 loss: 68172.34486341476\n",
            "epoch 1 total_correct: 15473 loss: 68916.57650470734\n",
            "epoch 1 total_correct: 15716 loss: 69655.24297952652\n",
            "epoch 1 total_correct: 15942 loss: 70394.14364099503\n",
            "epoch 1 total_correct: 16139 loss: 71197.95155525208\n",
            "epoch 1 total_correct: 16352 loss: 71967.73493289948\n",
            "epoch 1 total_correct: 16576 loss: 72715.33954143524\n",
            "epoch 1 total_correct: 16785 loss: 73522.06069231033\n",
            "epoch 1 total_correct: 16992 loss: 74310.71829795837\n",
            "epoch 1 total_correct: 17219 loss: 75048.5525727272\n",
            "epoch 1 total_correct: 17442 loss: 75811.8343949318\n",
            "epoch 1 total_correct: 17660 loss: 76538.77973556519\n",
            "epoch 1 total_correct: 17868 loss: 77310.23871898651\n",
            "epoch 1 total_correct: 18104 loss: 78021.27569913864\n",
            "epoch 1 total_correct: 18339 loss: 78753.08150053024\n",
            "epoch 1 total_correct: 18552 loss: 79514.45227861404\n",
            "epoch 1 total_correct: 18762 loss: 80288.11407089233\n",
            "epoch 1 total_correct: 18998 loss: 81030.9807062149\n",
            "epoch 1 total_correct: 19230 loss: 81752.46566534042\n"
          ],
          "name": "stdout"
        },
        {
          "output_type": "display_data",
          "data": {
            "image/png": "[encoded data removed]",
            "text/plain": [
              "<Figure size 432x288 with 1 Axes>"
            ]
          },
          "metadata": {
            "tags": []
          }
        }
      ]
    },
    {
      "cell_type": "code",
      "metadata": {
        "id": "GMfI5qmTlUaR",
        "colab_type": "code",
        "colab": {}
      },
      "source": [
        "import pandas as pd\n",
        "\n",
        "for layer_name, parameter in network.named_parameters():\n",
        "      df = pd.read_cvs(name+\".csv\")\n",
        "      df.head()"
      ],
      "execution_count": 0,
      "outputs": []
    },
    {
      "cell_type": "code",
      "metadata": {
        "id": "OBIEV2ENuVHu",
        "colab_type": "code",
        "outputId": "ab27eb75-e57d-4aca-8351-9af50cf7d5b3",
        "colab": {
          "base_uri": "https://localhost:8080/",
          "height": 265
        }
      },
      "source": [
        "plt.plot(times, data_norm[times, 3], 'r')\n",
        "fig_name = lName+'3.png'\n",
        "plt.savefig(fig_name)"
      ],
      "execution_count": 0,
      "outputs": [
        {
          "output_type": "display_data",
          "data": {
            "image/png": "[encoded data removed]",
            "text/plain": [
              "<Figure size 432x288 with 1 Axes>"
            ]
          },
          "metadata": {
            "tags": []
          }
        }
      ]
    },
    {
      "cell_type": "code",
      "metadata": {
        "id": "iIje4JL5uh2e",
        "colab_type": "code",
        "outputId": "04a8b853-923f-4f71-d164-7d0b30593a87",
        "colab": {
          "base_uri": "https://localhost:8080/",
          "height": 265
        }
      },
      "source": [
        "for i in range(input_array):\n",
        "  plt.plot(times, data_norm[times, i], 'r')\n",
        "  fig_name = 'layer4 0 conv1weight'+str(i)+'.png'\n",
        "  plt.savefig(fig_name)"
      ],
      "execution_count": 0,
      "outputs": [
        {
          "output_type": "display_data",
          "data": {
            "image/png": "[encoded data removed]",
            "text/plain": [
              "<Figure size 432x288 with 1 Axes>"
            ]
          },
          "metadata": {
            "tags": []
          }
        }
      ]
    },
    {
      "cell_type": "code",
      "metadata": {
        "id": "RyIRm6wyzwsk",
        "colab_type": "code",
        "outputId": "35933f4b-fa65-4ba6-b48d-f34e916b7194",
        "colab": {
          "base_uri": "https://localhost:8080/",
          "height": 34
        }
      },
      "source": [
        "np.max(data_norm[2:input_array , :])\n"
      ],
      "execution_count": 0,
      "outputs": [
        {
          "output_type": "execute_result",
          "data": {
            "text/plain": [
              "0.6575690507888794"
            ]
          },
          "metadata": {
            "tags": []
          },
          "execution_count": 14
        }
      ]
    },
    {
      "cell_type": "code",
      "metadata": {
        "id": "UvPQWhwU0gOf",
        "colab_type": "code",
        "colab": {}
      },
      "source": [
        "\n",
        "\n",
        "\n",
        "\n",
        "\n",
        "\n",
        "\n",
        "\n",
        "\n"
      ],
      "execution_count": 0,
      "outputs": []
    }
  ]
}