{
  "nbformat": 4,
  "nbformat_minor": 0,
  "metadata": {
    "colab": {
      "name": "Skip Connection 4.0.0",
      "provenance": [],
      "toc_visible": true,
      "include_colab_link": true
    },
    "kernelspec": {
      "name": "python3",
      "display_name": "Python 3"
    },
    "accelerator": "GPU"
  },
  "cells": [
    {
      "cell_type": "markdown",
      "metadata": {
        "id": "view-in-github",
        "colab_type": "text"
      },
      "source": [
        "<a href=\"https://colab.research.google.com/github/SaraBabakN/Model-Search/blob/master/Skip_Connection_4_0_0.ipynb\" target=\"_parent\"><img src=\"https://colab.research.google.com/assets/colab-badge.svg\" alt=\"Open In Colab\"/></a>"
      ]
    },
    {
      "cell_type": "code",
      "metadata": {
        "id": "8tZkNNNAR0OX",
        "colab_type": "code",
        "outputId": "bbb13cb2-4b8e-4d76-db3c-8e94849bb678",
        "colab": {
          "base_uri": "https://localhost:8080/",
          "height": 52
        }
      },
      "source": [
        "from datetime import datetime\n",
        "import torch\n",
        "import torchvision\n",
        "import torch.nn as nn\n",
        "import torchvision.models as models\n",
        "import torch.optim as optim\n",
        "import torchvision.transforms as transforms\n",
        "import matplotlib.pyplot as plt\n",
        "import numpy as np\n",
        "import seaborn as sns\n",
        "\n",
        "\n",
        "train_set = torchvision.datasets.CIFAR10('./dataset', train=True, download=True,\n",
        "                                         transform=transforms.Compose([transforms.ToTensor()]))\n",
        "\n",
        "\n",
        "def get_num_correct(preds, labels):\n",
        "    return preds.argmax(dim=1).eq(labels).sum().item()"
      ],
      "execution_count": 0,
      "outputs": [
        {
          "output_type": "stream",
          "text": [
            "\r0it [00:00, ?it/s]"
          ],
          "name": "stderr"
        },
        {
          "output_type": "stream",
          "text": [
            "Downloading https://www.cs.toronto.edu/~kriz/cifar-10-python.tar.gz to ./dataset/cifar-10-python.tar.gz\n"
          ],
          "name": "stdout"
        },
        {
          "output_type": "stream",
          "text": [
            " 99%|█████████▉| 168484864/170498071 [00:11<00:00, 16874607.78it/s]"
          ],
          "name": "stderr"
        },
        {
          "output_type": "stream",
          "text": [
            "Extracting ./dataset/cifar-10-python.tar.gz to ./dataset\n"
          ],
          "name": "stdout"
        }
      ]
    },
    {
      "cell_type": "code",
      "metadata": {
        "id": "LnbzkY4OSERd",
        "colab_type": "code",
        "colab": {}
      },
      "source": [
        "lr = 0.01\n",
        "batch_size = 200\n",
        "dataset_size = 50000\n",
        "epoch_num = 40\n",
        "cor_ths = 0.5\n",
        "data_loader = torch.utils.data.DataLoader(train_set, batch_size=batch_size)"
      ],
      "execution_count": 0,
      "outputs": []
    },
    {
      "cell_type": "code",
      "metadata": {
        "id": "-XNVsTa7Twoj",
        "colab_type": "code",
        "colab": {}
      },
      "source": [
        "# sns.set()    \n",
        "# plt.figure(i)\n",
        "#     ax = sns.heatmap(\n",
        "#       corr, \n",
        "#       vmin=-1, vmax=1, center=0,\n",
        "#       cmap=sns.color_palette(\"hls\", 10),\n",
        "#       square=True\n",
        "#     )\n",
        "#     plt.title({i})\n",
        "\n",
        "# plt.show "
      ],
      "execution_count": 0,
      "outputs": []
    },
    {
      "cell_type": "code",
      "metadata": {
        "id": "_fMZtdCLRDgw",
        "colab_type": "code",
        "colab": {}
      },
      "source": [
        "class myModel(nn.Module):\n",
        "\n",
        "    def __init__(self, block,groups=1, width_per_group=64):\n",
        "        super(myModel, self).__init__()\n",
        "        norm_layer = nn.BatchNorm2d\n",
        "        self._norm_layer = norm_layer\n",
        "        self.inplanes = 64\n",
        "        self.dilation = 1\n",
        "        self.groups = groups\n",
        "        self.base_width = width_per_group\n",
        "        self.conv1 = nn.Conv2d(3,64, kernel_size=7, stride=2, padding=3,bias=False)\n",
        "        self.bn1 = norm_layer(64)\n",
        "        self.relu = nn.ReLU(inplace=True)\n",
        "        self.maxpool = nn.MaxPool2d(kernel_size=3, stride=2, padding=1)\n",
        "        self.layer1 = self._make_layer(block, 64)\n",
        "        self.layer2 = self._make_layer(block, 64)\n",
        "        self.layer3 = self._make_layer(block, 128, stride=2)\n",
        "        self.layer4 = self._make_layer(block, 128,)\n",
        "        self.layer5 = self._make_layer(block, 256, stride=2)\n",
        "        self.layer6 = self._make_layer(block, 256)\n",
        "        self.layer7 = self._make_layer(block, 512, stride=2)\n",
        "        self.layer8 = self._make_layer(block, 512)\n",
        "        self.avgpool = nn.AdaptiveAvgPool2d((1, 1))\n",
        "        self.fc = nn.Linear(512 , 10)\n",
        "\n",
        "    def _make_layer(self, block, planes, stride=1, dilate=False):\n",
        "        norm_layer = self._norm_layer\n",
        "        downsample = None\n",
        "        previous_dilation = self.dilation\n",
        "        if stride != 1 or self.inplanes != planes:\n",
        "            downsample = nn.Sequential(\n",
        "                conv1x1(self.inplanes, planes, stride),\n",
        "                norm_layer(planes),\n",
        "            )\n",
        "\n",
        "        layers = []\n",
        "        layers.append(block(self.inplanes, planes, stride, downsample, self.groups,\n",
        "                            self.base_width, previous_dilation, norm_layer))\n",
        "        self.inplanes = planes\n",
        "        return nn.Sequential(*layers)\n",
        "\n",
        "    def _forward_impl(self, x):\n",
        "        # See note [TorchScript super()]\n",
        "        x = self.conv1(x)\n",
        "        x = self.bn1(x)\n",
        "        x = self.relu(x)\n",
        "        x = self.maxpool(x)\n",
        "\n",
        "        x = self.layer1(x)\n",
        "        x = self.layer2(x)\n",
        "        x = self.layer3(x)\n",
        "        x = self.layer4(x)\n",
        "        x = self.layer5(x)\n",
        "        x = self.layer6(x)\n",
        "        x = self.layer7(x)\n",
        "        x = self.layer8(x)\n",
        "\n",
        "        x = self.avgpool(x)\n",
        "        x = torch.flatten(x, 1)\n",
        "        x = self.fc(x)\n",
        "\n",
        "        return x\n",
        "\n",
        "    def forward(self, x):\n",
        "        return self._forward_impl(x)\n",
        "class BasicBlock(nn.Module): \n",
        "    expansion = 1 \n",
        "    __constants__ = ['downsample']\n",
        "\n",
        "    def __init__(self, inplanes, planes, stride=1, downsample=None, groups=1,\n",
        "                 base_width=64, dilation=1, norm_layer=None):\n",
        "        super(BasicBlock, self).__init__()\n",
        "        norm_layer = nn.BatchNorm2d\n",
        "        self.conv1 = conv3x3(inplanes, planes, stride)\n",
        "        self.bn1 = norm_layer(planes)\n",
        "        self.relu = nn.ReLU(inplace=True)\n",
        "        self.conv2 = conv3x3(planes, planes)\n",
        "        self.bn2 = norm_layer(planes)\n",
        "        self.downsample = downsample\n",
        "        self.stride = stride\n",
        "\n",
        "    def forward(self, x):\n",
        "        identity = x\n",
        "\n",
        "        out = self.conv1(x)\n",
        "        out = self.bn1(out)\n",
        "        out = self.relu(out)\n",
        "\n",
        "        out = self.conv2(out)\n",
        "        out = self.bn2(out)\n",
        "\n",
        "        if self.downsample is not None:\n",
        "            identity = self.downsample(x)\n",
        "\n",
        "        out += identity\n",
        "        out = self.relu(out)\n",
        "\n",
        "        return out    \n",
        "\n",
        "def conv1x1(in_planes, out_planes, stride=1):\n",
        "    return nn.Conv2d(in_planes, out_planes, kernel_size=1, stride=stride, bias=False)\n",
        "\n",
        "def conv3x3(in_planes, out_planes, stride=1, groups=1, dilation=1):\n",
        "    return nn.Conv2d(in_planes, out_planes, kernel_size=3, stride=stride,\n",
        "                     padding=dilation, groups=groups, bias=False, dilation=dilation)\n",
        "\n",
        "def myResnet(pretrained=False, progress=True, **kwargs):\n",
        "    return myModel(BasicBlock,**kwargs)"
      ],
      "execution_count": 0,
      "outputs": []
    },
    {
      "cell_type": "code",
      "metadata": {
        "id": "lCeTlmdt1htC",
        "colab_type": "code",
        "outputId": "0f5d82fe-dadb-4432-a333-a0d7a2e32a92",
        "colab": {
          "base_uri": "https://localhost:8080/",
          "height": 125
        }
      },
      "source": [
        "from google.colab import drive\n",
        "drive.mount('/content/drive')"
      ],
      "execution_count": 0,
      "outputs": [
        {
          "output_type": "stream",
          "text": [
            "Go to this URL in a browser: https://accounts.google.com/o/oauth2/auth?client_id=947318989803-6bn6qk8qdgf4n4g3pfee6491hc0brc4i.apps.googleusercontent.com&redirect_uri=urn%3aietf%3awg%3aoauth%3a2.0%3aoob&response_type=code&scope=email%20https%3a%2f%2fwww.googleapis.com%2fauth%2fdocs.test%20https%3a%2f%2fwww.googleapis.com%2fauth%2fdrive%20https%3a%2f%2fwww.googleapis.com%2fauth%2fdrive.photos.readonly%20https%3a%2f%2fwww.googleapis.com%2fauth%2fpeopleapi.readonly\n",
            "\n",
            "Enter your authorization code:\n",
            "··········\n",
            "Mounted at /content/drive\n"
          ],
          "name": "stdout"
        }
      ]
    },
    {
      "cell_type": "code",
      "metadata": {
        "id": "Mktu3m_1wxqE",
        "colab_type": "code",
        "colab": {}
      },
      "source": [
        "myNet = torch.load(\"/content/drive/My Drive/data1/myNetV4.pth\")"
      ],
      "execution_count": 0,
      "outputs": []
    },
    {
      "cell_type": "code",
      "metadata": {
        "id": "2Cg_pB5FUYNi",
        "colab_type": "code",
        "colab": {}
      },
      "source": [
        "output= []\n",
        "for counter in range (0,63):\n",
        "    first = myNet.conv1.weight[counter][0].clone().detach().cpu()\n",
        "    for i in range (counter + 1 ,64):\n",
        "      second = myNet.conv1.weight[i][0].clone().detach().cpu()\n",
        "      corr = np.corrcoef(first, second)\n",
        "      for index in range(7):\n",
        "        if (abs(corr[index][7+index])< cor_ths):\n",
        "          break\n",
        "        if index== 6 :\n",
        "          output.append([counter , i ])\n",
        "for x in output: \n",
        "    first = myNet.conv1.weight[x[0]][1].clone().detach().cpu()\n",
        "    second = myNet.conv1.weight[x[1]][1].clone().detach().cpu()\n",
        "    corr = np.corrcoef(first, second)\n",
        "    for index in range(7):\n",
        "      if (abs(corr[index][7+index])< cor_ths):\n",
        "        break\n",
        "      if index== 6 :\n",
        "        print (x)\n",
        "# stopped at 1 "
      ],
      "execution_count": 0,
      "outputs": []
    },
    {
      "cell_type": "code",
      "metadata": {
        "id": "Bd-e43NG5aLf",
        "colab_type": "code",
        "outputId": "848cc975-b6a4-4c27-c2be-ea195a8e5f40",
        "colab": {
          "base_uri": "https://localhost:8080/",
          "height": 510
        }
      },
      "source": [
        "# 1 ---> 5 \n",
        "# 2 ---> 6 \n",
        "# 3 ---> 6 \n",
        "# 4 ---> 6\n",
        "# 5 ---> 6 \n",
        "# 6 ---> 7\n",
        "# 7 ---> 9\n",
        "modulList = list(myNet.layer8.modules())\n",
        "for x in modulList: \n",
        "  print(x)\n",
        "  print(\"%%%%%%\")"
      ],
      "execution_count": 0,
      "outputs": [
        {
          "output_type": "stream",
          "text": [
            "Sequential(\n",
            "  (0): BasicBlock(\n",
            "    (conv1): Conv2d(512, 512, kernel_size=(3, 3), stride=(1, 1), padding=(1, 1), bias=False)\n",
            "    (bn1): BatchNorm2d(512, eps=1e-05, momentum=0.1, affine=True, track_running_stats=True)\n",
            "    (relu): ReLU(inplace=True)\n",
            "    (conv2): Conv2d(512, 512, kernel_size=(3, 3), stride=(1, 1), padding=(1, 1), bias=False)\n",
            "    (bn2): BatchNorm2d(512, eps=1e-05, momentum=0.1, affine=True, track_running_stats=True)\n",
            "  )\n",
            ")\n",
            "%%%%%%\n",
            "BasicBlock(\n",
            "  (conv1): Conv2d(512, 512, kernel_size=(3, 3), stride=(1, 1), padding=(1, 1), bias=False)\n",
            "  (bn1): BatchNorm2d(512, eps=1e-05, momentum=0.1, affine=True, track_running_stats=True)\n",
            "  (relu): ReLU(inplace=True)\n",
            "  (conv2): Conv2d(512, 512, kernel_size=(3, 3), stride=(1, 1), padding=(1, 1), bias=False)\n",
            "  (bn2): BatchNorm2d(512, eps=1e-05, momentum=0.1, affine=True, track_running_stats=True)\n",
            ")\n",
            "%%%%%%\n",
            "Conv2d(512, 512, kernel_size=(3, 3), stride=(1, 1), padding=(1, 1), bias=False)\n",
            "%%%%%%\n",
            "BatchNorm2d(512, eps=1e-05, momentum=0.1, affine=True, track_running_stats=True)\n",
            "%%%%%%\n",
            "ReLU(inplace=True)\n",
            "%%%%%%\n",
            "Conv2d(512, 512, kernel_size=(3, 3), stride=(1, 1), padding=(1, 1), bias=False)\n",
            "%%%%%%\n",
            "BatchNorm2d(512, eps=1e-05, momentum=0.1, affine=True, track_running_stats=True)\n",
            "%%%%%%\n"
          ],
          "name": "stdout"
        }
      ]
    },
    {
      "cell_type": "code",
      "metadata": {
        "id": "kjeuZGzZ3bal",
        "colab_type": "code",
        "outputId": "c20f4faf-0f47-45df-b50b-d0e0c3e3e36f",
        "colab": {
          "base_uri": "https://localhost:8080/",
          "height": 351
        }
      },
      "source": [
        "modulList = list(myNet.layer8.modules())\n",
        "convLayer = modulList[5]\n",
        "output= []\n",
        "lenght = 3\n",
        "num_filter = 512  \n",
        "for counter in range (0,num_filter - 1 ):\n",
        "    first = convLayer.weight[counter][0].clone().detach().cpu()\n",
        "    for i in range (counter + 1 , num_filter):\n",
        "      second = convLayer.weight[i][0].clone().detach().cpu()\n",
        "      corr = np.corrcoef(first, second)\n",
        "      for index in range(lenght):\n",
        "        if (abs(corr[index][lenght+index])< cor_ths):\n",
        "          break\n",
        "        if index== lenght - 1  :\n",
        "          output.append([counter , i ])\n",
        "print(len(output))\n",
        "for j in range (1,10): \n",
        "  output1 = [] \n",
        "  for x in output: \n",
        "    first = convLayer.weight[x[0]][2*j - 1].clone().detach().cpu()\n",
        "    second = convLayer.weight[x[1]][2*j - 1].clone().detach().cpu()\n",
        "    corr = np.corrcoef(first, second)\n",
        "    for index in range(lenght):\n",
        "      if (abs(corr[index][lenght+index])< cor_ths):\n",
        "        break\n",
        "      if index == lenght-1 :\n",
        "        output1.append(x)\n",
        "  print(len(output1))\n",
        "  output = []\n",
        "  for x in output1: \n",
        "      first = convLayer.weight[x[0]][2*j].clone().detach().cpu()\n",
        "      second = convLayer.weight[x[1]][2*j].clone().detach().cpu()\n",
        "      corr = np.corrcoef(first, second)\n",
        "      for index in range(lenght):\n",
        "        if (abs(corr[index][lenght+index])< cor_ths):\n",
        "          break\n",
        "        if index == lenght-1 :\n",
        "          output.append(x)\n",
        "  print(len(output))\n"
      ],
      "execution_count": 0,
      "outputs": [
        {
          "output_type": "stream",
          "text": [
            "53951\n",
            "22845\n",
            "9813\n",
            "4149\n",
            "1699\n",
            "694\n",
            "261\n",
            "127\n",
            "32\n",
            "17\n",
            "7\n",
            "2\n",
            "2\n",
            "0\n",
            "0\n",
            "0\n",
            "0\n",
            "0\n",
            "0\n"
          ],
          "name": "stdout"
        }
      ]
    },
    {
      "cell_type": "code",
      "metadata": {
        "id": "zLP-RSps00Yv",
        "colab_type": "code",
        "colab": {}
      },
      "source": [
        "# Whole layer \n",
        "a = torch.norm(x1.reshape(batch_size,-1).clone().detach().cpu(),dim=1)\n",
        "b = torch.norm(x2.reshape(batch_size,-1).clone().detach().cpu(),dim=1)\n",
        "c = torch.norm((l3).reshape(batch_size,-1).clone().detach().cpu(),dim=1)\n",
        "t= range (batch_size)\n",
        "plt.figure(0)\n",
        "plt.plot(t,a[t] , 'ro' , label = \"x[t]\" )\n",
        "plt.plot(t,b[t] , 'b*' , label = \"x[t-1]\")\n",
        "plt.plot(t,c[t] , 'gs' , label = \"relu(x[t]+x[t-1])\")\n",
        "plt.xlabel(\"image\")\n",
        "plt.ylabel(\"norm of all filters\")\n",
        "plt.legend(loc='center left', bbox_to_anchor=(1, 0.5))\n",
        "plt.title(\"raw output of each layer\")"
      ],
      "execution_count": 0,
      "outputs": []
    },
    {
      "cell_type": "code",
      "metadata": {
        "id": "aALjxniCTDTB",
        "colab_type": "code",
        "colab": {}
      },
      "source": [
        "a = torch.norm(x1.clone().detach().cpu(),dim=(2,3))\n",
        "b = torch.norm(x2.clone().detach().cpu(),dim=(2,3))\n",
        "c = torch.norm(x3.clone().detach().cpu(),dim=(2,3))\n",
        "d = torch.norm(x4.clone().detach().cpu(),dim=(2,3))\n",
        "indic_a = (torch.nonzero( a[0] < 0.0001)).reshape(-1)\n",
        "indic_b = (torch.nonzero( b[0] < 0.0001)).reshape(-1)\n",
        "indic_c = (torch.nonzero( c[0] < 0.0001)).reshape(-1)\n",
        "indic_d = (torch.nonzero( d[0] < 0.0001)).reshape(-1)\n",
        "for i in range(200): \n",
        "  indic_a = (torch.nonzero( a[i][indic_a] < 0.0001)).reshape(-1)\n",
        "  indic_b = (torch.nonzero( b[i][indic_b] < 0.0001)).reshape(-1)\n",
        "  indic_c = (torch.nonzero( c[i][indic_c] < 0.0001)).reshape(-1)\n",
        "  indic_d = (torch.nonzero( d[i][indic_d] < 0.0001)).reshape(-1)\n",
        "print(indic_a)\n",
        "print(indic_b)\n",
        "print(indic_c)\n",
        "print(indic_d)\n"
      ],
      "execution_count": 0,
      "outputs": []
    }
  ]
}